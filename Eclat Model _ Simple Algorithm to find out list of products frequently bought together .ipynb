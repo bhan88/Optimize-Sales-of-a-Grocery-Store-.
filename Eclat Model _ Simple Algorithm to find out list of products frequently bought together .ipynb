{
 "cells": [
  {
   "cell_type": "code",
   "execution_count": 1,
   "metadata": {},
   "outputs": [
    {
     "name": "stderr",
     "output_type": "stream",
     "text": [
      "Loading required package: Matrix\n",
      "\n",
      "Attaching package: ‘arules’\n",
      "\n",
      "The following objects are masked from ‘package:base’:\n",
      "\n",
      "    abbreviate, write\n",
      "\n"
     ]
    }
   ],
   "source": [
    "# Eclat\n",
    "\n",
    "# Data Preprocessing\n",
    "# install.packages('arules')\n",
    "library(arules)\n",
    "\n"
   ]
  },
  {
   "cell_type": "code",
   "execution_count": 2,
   "metadata": {},
   "outputs": [
    {
     "name": "stdout",
     "output_type": "stream",
     "text": [
      "distribution of transactions with duplicates:\n",
      "1 \n",
      "5 \n"
     ]
    },
    {
     "data": {
      "text/plain": [
       "transactions as itemMatrix in sparse format with\n",
       " 7501 rows (elements/itemsets/transactions) and\n",
       " 119 columns (items) and a density of 0.03288973 \n",
       "\n",
       "most frequent items:\n",
       "mineral water          eggs     spaghetti  french fries     chocolate \n",
       "         1788          1348          1306          1282          1229 \n",
       "      (Other) \n",
       "        22405 \n",
       "\n",
       "element (itemset/transaction) length distribution:\n",
       "sizes\n",
       "   1    2    3    4    5    6    7    8    9   10   11   12   13   14   15   16 \n",
       "1754 1358 1044  816  667  493  391  324  259  139  102   67   40   22   17    4 \n",
       "  18   19   20 \n",
       "   1    2    1 \n",
       "\n",
       "   Min. 1st Qu.  Median    Mean 3rd Qu.    Max. \n",
       "  1.000   2.000   3.000   3.914   5.000  20.000 \n",
       "\n",
       "includes extended item information - examples:\n",
       "             labels\n",
       "1           almonds\n",
       "2 antioxydant juice\n",
       "3         asparagus"
      ]
     },
     "metadata": {},
     "output_type": "display_data"
    }
   ],
   "source": [
    "dataset = read.csv('Market_Basket_Optimisation.csv')\n",
    "dataset = read.transactions('Market_Basket_Optimisation.csv', sep = ',', rm.duplicates = TRUE)\n",
    "summary(dataset)\n"
   ]
  },
  {
   "cell_type": "code",
   "execution_count": 7,
   "metadata": {},
   "outputs": [
    {
     "data": {
      "image/png": "[encoded data removed]",
      "text/plain": [
       "plot without title"
      ]
     },
     "metadata": {},
     "output_type": "display_data"
    }
   ],
   "source": [
    "itemFrequencyPlot(dataset, topN = 20)\n",
    "\n"
   ]
  },
  {
   "cell_type": "code",
   "execution_count": 4,
   "metadata": {},
   "outputs": [
    {
     "name": "stdout",
     "output_type": "stream",
     "text": [
      "Eclat\n",
      "\n",
      "parameter specification:\n",
      " tidLists support minlen maxlen            target   ext\n",
      "    FALSE   0.003      2     10 frequent itemsets FALSE\n",
      "\n",
      "algorithmic control:\n",
      " sparse sort verbose\n",
      "      7   -2    TRUE\n",
      "\n",
      "Absolute minimum support count: 22 \n",
      "\n",
      "create itemset ... \n",
      "set transactions ...[119 item(s), 7501 transaction(s)] done [0.00s].\n",
      "sorting and recoding items ... [115 item(s)] done [0.00s].\n",
      "creating sparse bit matrix ... [115 row(s), 7501 column(s)] done [0.00s].\n",
      "writing  ... [1328 set(s)] done [0.01s].\n",
      "Creating S4 object  ... done [0.00s].\n"
     ]
    }
   ],
   "source": [
    "# Training Eclat on the dataset\n",
    "rules = eclat(data = dataset, parameter = list(support = 0.003, minlen = 2))\n",
    "\n"
   ]
  },
  {
   "cell_type": "code",
   "execution_count": 6,
   "metadata": {},
   "outputs": [
    {
     "name": "stdout",
     "output_type": "stream",
     "text": [
      "     items                             support    count\n",
      "[1]  {mineral water,spaghetti}         0.05972537 448  \n",
      "[2]  {chocolate,mineral water}         0.05265965 395  \n",
      "[3]  {eggs,mineral water}              0.05092654 382  \n",
      "[4]  {milk,mineral water}              0.04799360 360  \n",
      "[5]  {ground beef,mineral water}       0.04092788 307  \n",
      "[6]  {ground beef,spaghetti}           0.03919477 294  \n",
      "[7]  {chocolate,spaghetti}             0.03919477 294  \n",
      "[8]  {eggs,spaghetti}                  0.03652846 274  \n",
      "[9]  {eggs,french fries}               0.03639515 273  \n",
      "[10] {frozen vegetables,mineral water} 0.03572857 268  \n",
      "[11] {milk,spaghetti}                  0.03546194 266  \n",
      "[12] {chocolate,french fries}          0.03439541 258  \n",
      "[13] {mineral water,pancakes}          0.03372884 253  \n",
      "[14] {french fries,mineral water}      0.03372884 253  \n",
      "[15] {chocolate,eggs}                  0.03319557 249  \n",
      "[16] {chocolate,milk}                  0.03212905 241  \n",
      "[17] {green tea,mineral water}         0.03106252 233  \n",
      "[18] {eggs,milk}                       0.03079589 231  \n",
      "[19] {burgers,eggs}                    0.02879616 216  \n",
      "[20] {french fries,green tea}          0.02852953 214  \n"
     ]
    }
   ],
   "source": [
    "# Visualising the results\n",
    "inspect(sort(rules, by = 'support')[1:20])\n"
   ]
  },
  {
   "cell_type": "code",
   "execution_count": null,
   "metadata": {},
   "outputs": [],
   "source": [
    "# These are the set of products , most frequently purchased together ."
   ]
  }
 ],
 "metadata": {
  "kernelspec": {
   "display_name": "R",
   "language": "R",
   "name": "ir"
  },
  "language_info": {
   "codemirror_mode": "r",
   "file_extension": ".r",
   "mimetype": "text/x-r-source",
   "name": "R",
   "pygments_lexer": "r",
   "version": "3.4.4"
  }
 },
 "nbformat": 4,
 "nbformat_minor": 2
}
